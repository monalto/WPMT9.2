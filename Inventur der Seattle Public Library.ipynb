{
 "cells": [
  {
   "cell_type": "markdown",
   "metadata": {},
   "source": [
    "# Inventur der Seattle Public Library \n",
    "\n",
    "#### Die Fragen, die in diesem Notebook beantworten werden sind:\n",
    "1. Von welchem Itemtype wurden die meisten Bücher inventarisiert?\n",
    "2. In welchem Jahr wurden die meisten Bücher publiziert?\n",
    "3. Zu welchem Itemtype gehören die meisten floatingitems?\n",
    "4. Wie viele inventarisierten Bücher gehören zum floatingitem?\n",
    "5. Wie viele Exemplare von einem Buch sind vorhanden?"
   ]
  },
  {
   "cell_type": "code",
   "execution_count": 88,
   "metadata": {},
   "outputs": [],
   "source": [
    "#zuerst werden zwei Dictionaries um die csv Datei lesen zu können, importiert\n",
    "import urllib.request\n",
    "import pandas as pd\n",
    "import numpy as np\n",
    "import matplotlib.pyplot as plt"
   ]
  },
  {
   "cell_type": "code",
   "execution_count": 74,
   "metadata": {},
   "outputs": [],
   "source": [
    "url = \"https://data.seattle.gov/resource/6vkj-f5xf.csv?$limit=10000\"\n",
    "inventory_file =\"inventory.csv\""
   ]
  },
  {
   "cell_type": "code",
   "execution_count": 75,
   "metadata": {},
   "outputs": [
    {
     "data": {
      "text/plain": [
       "('inventory.csv', <http.client.HTTPMessage at 0x1e9c84ccec8>)"
      ]
     },
     "execution_count": 75,
     "metadata": {},
     "output_type": "execute_result"
    }
   ],
   "source": [
    "# Download der Daten\n",
    "urllib.request.urlretrieve(url, inventory_file)"
   ]
  },
  {
   "cell_type": "code",
   "execution_count": 89,
   "metadata": {},
   "outputs": [],
   "source": [
    "# DF geschpeichert als inventories\n",
    "inventories=pd.read_csv(inventory_file)"
   ]
  },
  {
   "cell_type": "code",
   "execution_count": 90,
   "metadata": {
    "scrolled": true
   },
   "outputs": [
    {
     "data": {
      "text/html": [
       "<div>\n",
       "<style scoped>\n",
       "    .dataframe tbody tr th:only-of-type {\n",
       "        vertical-align: middle;\n",
       "    }\n",
       "\n",
       "    .dataframe tbody tr th {\n",
       "        vertical-align: top;\n",
       "    }\n",
       "\n",
       "    .dataframe thead th {\n",
       "        text-align: right;\n",
       "    }\n",
       "</style>\n",
       "<table border=\"1\" class=\"dataframe\">\n",
       "  <thead>\n",
       "    <tr style=\"text-align: right;\">\n",
       "      <th></th>\n",
       "      <th>bibnum</th>\n",
       "      <th>title</th>\n",
       "      <th>author</th>\n",
       "      <th>isbn</th>\n",
       "      <th>publicationyear</th>\n",
       "      <th>publisher</th>\n",
       "      <th>subjects</th>\n",
       "      <th>itemtype</th>\n",
       "      <th>itemcollection</th>\n",
       "      <th>floatingitem</th>\n",
       "      <th>itemlocation</th>\n",
       "      <th>reportdate</th>\n",
       "      <th>itemcount</th>\n",
       "    </tr>\n",
       "  </thead>\n",
       "  <tbody>\n",
       "    <tr>\n",
       "      <th>0</th>\n",
       "      <td>3011076</td>\n",
       "      <td>A tale of two friends / adapted by Ellie O'Rya...</td>\n",
       "      <td>O'Ryan, Ellie</td>\n",
       "      <td>1481425730, 1481425749, 9781481425735, 9781481...</td>\n",
       "      <td>2014.</td>\n",
       "      <td>Simon Spotlight,</td>\n",
       "      <td>Musicians Fiction, Bullfighters Fiction, Best ...</td>\n",
       "      <td>jcbk</td>\n",
       "      <td>ncrdr</td>\n",
       "      <td>Floating</td>\n",
       "      <td>qna</td>\n",
       "      <td>2017-09-01T00:00:00.000</td>\n",
       "      <td>1</td>\n",
       "    </tr>\n",
       "    <tr>\n",
       "      <th>1</th>\n",
       "      <td>2248846</td>\n",
       "      <td>Naruto. Vol. 1, Uzumaki Naruto / story and art...</td>\n",
       "      <td>Kishimoto, Masashi, 1974-</td>\n",
       "      <td>1569319006</td>\n",
       "      <td>2003, c1999.</td>\n",
       "      <td>Viz,</td>\n",
       "      <td>Ninja Japan Comic books strips etc, Comic book...</td>\n",
       "      <td>acbk</td>\n",
       "      <td>nycomic</td>\n",
       "      <td>NaN</td>\n",
       "      <td>lcy</td>\n",
       "      <td>2017-09-01T00:00:00.000</td>\n",
       "      <td>1</td>\n",
       "    </tr>\n",
       "    <tr>\n",
       "      <th>2</th>\n",
       "      <td>3209270</td>\n",
       "      <td>Peace, love &amp; Wi-Fi : a ZITS treasury / by Jer...</td>\n",
       "      <td>Scott, Jerry, 1955-</td>\n",
       "      <td>144945867X, 9781449458676</td>\n",
       "      <td>2014.</td>\n",
       "      <td>Andrews McMeel Publishing,</td>\n",
       "      <td>Duncan Jeremy Fictitious character Comic books...</td>\n",
       "      <td>acbk</td>\n",
       "      <td>nycomic</td>\n",
       "      <td>NaN</td>\n",
       "      <td>bea</td>\n",
       "      <td>2017-09-01T00:00:00.000</td>\n",
       "      <td>1</td>\n",
       "    </tr>\n",
       "    <tr>\n",
       "      <th>3</th>\n",
       "      <td>1907265</td>\n",
       "      <td>The Paris pilgrims : a novel / Clancy Carlile.</td>\n",
       "      <td>Carlile, Clancy, 1930-</td>\n",
       "      <td>0786706155</td>\n",
       "      <td>c1999.</td>\n",
       "      <td>Carroll &amp; Graf,</td>\n",
       "      <td>Hemingway Ernest 1899 1961 Fiction, Biographic...</td>\n",
       "      <td>acbk</td>\n",
       "      <td>cafic</td>\n",
       "      <td>NaN</td>\n",
       "      <td>cen</td>\n",
       "      <td>2017-09-01T00:00:00.000</td>\n",
       "      <td>1</td>\n",
       "    </tr>\n",
       "    <tr>\n",
       "      <th>4</th>\n",
       "      <td>1644616</td>\n",
       "      <td>Erotic by nature : a celebration of life, of l...</td>\n",
       "      <td>NaN</td>\n",
       "      <td>094020813X</td>\n",
       "      <td>1991, c1988.</td>\n",
       "      <td>Red Alder Books/Down There Press,</td>\n",
       "      <td>Erotic literature American, American literatur...</td>\n",
       "      <td>acbk</td>\n",
       "      <td>canf</td>\n",
       "      <td>NaN</td>\n",
       "      <td>cen</td>\n",
       "      <td>2017-09-01T00:00:00.000</td>\n",
       "      <td>1</td>\n",
       "    </tr>\n",
       "    <tr>\n",
       "      <th>...</th>\n",
       "      <td>...</td>\n",
       "      <td>...</td>\n",
       "      <td>...</td>\n",
       "      <td>...</td>\n",
       "      <td>...</td>\n",
       "      <td>...</td>\n",
       "      <td>...</td>\n",
       "      <td>...</td>\n",
       "      <td>...</td>\n",
       "      <td>...</td>\n",
       "      <td>...</td>\n",
       "      <td>...</td>\n",
       "      <td>...</td>\n",
       "    </tr>\n",
       "    <tr>\n",
       "      <th>9995</th>\n",
       "      <td>3125374</td>\n",
       "      <td>Crossed + one hundred. Vol. 1 / Alan Moore, st...</td>\n",
       "      <td>Moore, Alan, 1953-</td>\n",
       "      <td>1592912648, 9781592912643</td>\n",
       "      <td>2015.</td>\n",
       "      <td>Avatar Press,</td>\n",
       "      <td>Good and evil Comic books strips etc, Graphic ...</td>\n",
       "      <td>acbk</td>\n",
       "      <td>nacomic</td>\n",
       "      <td>NaN</td>\n",
       "      <td>dth</td>\n",
       "      <td>2017-09-01T00:00:00.000</td>\n",
       "      <td>1</td>\n",
       "    </tr>\n",
       "    <tr>\n",
       "      <th>9996</th>\n",
       "      <td>3139221</td>\n",
       "      <td>Swamp man / Donald Goines.</td>\n",
       "      <td>Goines, Donald, 1937-1974</td>\n",
       "      <td>0870679473, 9780870679476</td>\n",
       "      <td>2008, ©1974.</td>\n",
       "      <td>Kensington Publishing Corp,</td>\n",
       "      <td>African American men Mississippi Fiction, Reve...</td>\n",
       "      <td>acbk</td>\n",
       "      <td>cafic</td>\n",
       "      <td>NaN</td>\n",
       "      <td>cen</td>\n",
       "      <td>2017-09-01T00:00:00.000</td>\n",
       "      <td>2</td>\n",
       "    </tr>\n",
       "    <tr>\n",
       "      <th>9997</th>\n",
       "      <td>586701</td>\n",
       "      <td>The Raffi singable songbook [music] : a collec...</td>\n",
       "      <td>Raffi</td>\n",
       "      <td>0517566370</td>\n",
       "      <td>[1987], c1980.</td>\n",
       "      <td>Crown Publishers,</td>\n",
       "      <td>Childrens songs, Songs</td>\n",
       "      <td>acmus</td>\n",
       "      <td>camus</td>\n",
       "      <td>NaN</td>\n",
       "      <td>cen</td>\n",
       "      <td>2017-09-01T00:00:00.000</td>\n",
       "      <td>1</td>\n",
       "    </tr>\n",
       "    <tr>\n",
       "      <th>9998</th>\n",
       "      <td>3125408</td>\n",
       "      <td>Cop car [videorecording] / Focus World ; Audax...</td>\n",
       "      <td>NaN</td>\n",
       "      <td>NaN</td>\n",
       "      <td>[2015]</td>\n",
       "      <td>Universal,</td>\n",
       "      <td>Sheriffs Drama, Teenage boys Drama, Police veh...</td>\n",
       "      <td>acdvd</td>\n",
       "      <td>nadvd</td>\n",
       "      <td>Floating</td>\n",
       "      <td>glk</td>\n",
       "      <td>2017-09-01T00:00:00.000</td>\n",
       "      <td>1</td>\n",
       "    </tr>\n",
       "    <tr>\n",
       "      <th>9999</th>\n",
       "      <td>593256</td>\n",
       "      <td>What engineers know and how they know it : ana...</td>\n",
       "      <td>Vincenti, Walter G. (Walter Guido), 1917-</td>\n",
       "      <td>0801839742</td>\n",
       "      <td>c1990.</td>\n",
       "      <td>Johns Hopkins University Press,</td>\n",
       "      <td>Aeronautics History</td>\n",
       "      <td>acbk</td>\n",
       "      <td>canf</td>\n",
       "      <td>NaN</td>\n",
       "      <td>cen</td>\n",
       "      <td>2017-09-01T00:00:00.000</td>\n",
       "      <td>1</td>\n",
       "    </tr>\n",
       "  </tbody>\n",
       "</table>\n",
       "<p>10000 rows × 13 columns</p>\n",
       "</div>"
      ],
      "text/plain": [
       "       bibnum                                              title  \\\n",
       "0     3011076  A tale of two friends / adapted by Ellie O'Rya...   \n",
       "1     2248846  Naruto. Vol. 1, Uzumaki Naruto / story and art...   \n",
       "2     3209270  Peace, love & Wi-Fi : a ZITS treasury / by Jer...   \n",
       "3     1907265     The Paris pilgrims : a novel / Clancy Carlile.   \n",
       "4     1644616  Erotic by nature : a celebration of life, of l...   \n",
       "...       ...                                                ...   \n",
       "9995  3125374  Crossed + one hundred. Vol. 1 / Alan Moore, st...   \n",
       "9996  3139221                         Swamp man / Donald Goines.   \n",
       "9997   586701  The Raffi singable songbook [music] : a collec...   \n",
       "9998  3125408  Cop car [videorecording] / Focus World ; Audax...   \n",
       "9999   593256  What engineers know and how they know it : ana...   \n",
       "\n",
       "                                         author  \\\n",
       "0                                 O'Ryan, Ellie   \n",
       "1                     Kishimoto, Masashi, 1974-   \n",
       "2                           Scott, Jerry, 1955-   \n",
       "3                        Carlile, Clancy, 1930-   \n",
       "4                                           NaN   \n",
       "...                                         ...   \n",
       "9995                         Moore, Alan, 1953-   \n",
       "9996                  Goines, Donald, 1937-1974   \n",
       "9997                                      Raffi   \n",
       "9998                                        NaN   \n",
       "9999  Vincenti, Walter G. (Walter Guido), 1917-   \n",
       "\n",
       "                                                   isbn publicationyear  \\\n",
       "0     1481425730, 1481425749, 9781481425735, 9781481...           2014.   \n",
       "1                                            1569319006    2003, c1999.   \n",
       "2                             144945867X, 9781449458676           2014.   \n",
       "3                                            0786706155          c1999.   \n",
       "4                                            094020813X    1991, c1988.   \n",
       "...                                                 ...             ...   \n",
       "9995                          1592912648, 9781592912643           2015.   \n",
       "9996                          0870679473, 9780870679476    2008, ©1974.   \n",
       "9997                                         0517566370  [1987], c1980.   \n",
       "9998                                                NaN          [2015]   \n",
       "9999                                         0801839742          c1990.   \n",
       "\n",
       "                              publisher  \\\n",
       "0                      Simon Spotlight,   \n",
       "1                                  Viz,   \n",
       "2            Andrews McMeel Publishing,   \n",
       "3                       Carroll & Graf,   \n",
       "4     Red Alder Books/Down There Press,   \n",
       "...                                 ...   \n",
       "9995                      Avatar Press,   \n",
       "9996        Kensington Publishing Corp,   \n",
       "9997                  Crown Publishers,   \n",
       "9998                         Universal,   \n",
       "9999    Johns Hopkins University Press,   \n",
       "\n",
       "                                               subjects itemtype  \\\n",
       "0     Musicians Fiction, Bullfighters Fiction, Best ...     jcbk   \n",
       "1     Ninja Japan Comic books strips etc, Comic book...     acbk   \n",
       "2     Duncan Jeremy Fictitious character Comic books...     acbk   \n",
       "3     Hemingway Ernest 1899 1961 Fiction, Biographic...     acbk   \n",
       "4     Erotic literature American, American literatur...     acbk   \n",
       "...                                                 ...      ...   \n",
       "9995  Good and evil Comic books strips etc, Graphic ...     acbk   \n",
       "9996  African American men Mississippi Fiction, Reve...     acbk   \n",
       "9997                             Childrens songs, Songs    acmus   \n",
       "9998  Sheriffs Drama, Teenage boys Drama, Police veh...    acdvd   \n",
       "9999                                Aeronautics History     acbk   \n",
       "\n",
       "     itemcollection floatingitem itemlocation               reportdate  \\\n",
       "0             ncrdr     Floating          qna  2017-09-01T00:00:00.000   \n",
       "1           nycomic          NaN          lcy  2017-09-01T00:00:00.000   \n",
       "2           nycomic          NaN          bea  2017-09-01T00:00:00.000   \n",
       "3             cafic          NaN          cen  2017-09-01T00:00:00.000   \n",
       "4              canf          NaN          cen  2017-09-01T00:00:00.000   \n",
       "...             ...          ...          ...                      ...   \n",
       "9995        nacomic          NaN          dth  2017-09-01T00:00:00.000   \n",
       "9996          cafic          NaN          cen  2017-09-01T00:00:00.000   \n",
       "9997          camus          NaN          cen  2017-09-01T00:00:00.000   \n",
       "9998          nadvd     Floating          glk  2017-09-01T00:00:00.000   \n",
       "9999           canf          NaN          cen  2017-09-01T00:00:00.000   \n",
       "\n",
       "      itemcount  \n",
       "0             1  \n",
       "1             1  \n",
       "2             1  \n",
       "3             1  \n",
       "4             1  \n",
       "...         ...  \n",
       "9995          1  \n",
       "9996          2  \n",
       "9997          1  \n",
       "9998          1  \n",
       "9999          1  \n",
       "\n",
       "[10000 rows x 13 columns]"
      ]
     },
     "execution_count": 90,
     "metadata": {},
     "output_type": "execute_result"
    }
   ],
   "source": [
    "inventories"
   ]
  },
  {
   "cell_type": "code",
   "execution_count": 91,
   "metadata": {},
   "outputs": [
    {
     "data": {
      "text/plain": [
       "0        jcbk\n",
       "1        acbk\n",
       "2        acbk\n",
       "3        acbk\n",
       "4        acbk\n",
       "        ...  \n",
       "9995     acbk\n",
       "9996     acbk\n",
       "9997    acmus\n",
       "9998    acdvd\n",
       "9999     acbk\n",
       "Name: itemtype, Length: 10000, dtype: object"
      ]
     },
     "execution_count": 91,
     "metadata": {},
     "output_type": "execute_result"
    }
   ],
   "source": [
    "#Spalte Itemtype ziehen\n",
    "inventories[\"itemtype\"]"
   ]
  },
  {
   "cell_type": "code",
   "execution_count": 92,
   "metadata": {},
   "outputs": [
    {
     "data": {
      "text/plain": [
       "acbk     4974\n",
       "jcbk     2374\n",
       "arbk      852\n",
       "accd      730\n",
       "acdvd     637\n",
       "jcdvd     188\n",
       "acmus     120\n",
       "jccd       97\n",
       "arper       8\n",
       "acmap       6\n",
       "Name: itemtype, dtype: int64"
      ]
     },
     "execution_count": 92,
     "metadata": {},
     "output_type": "execute_result"
    }
   ],
   "source": [
    "inventories[\"itemtype\"].value_counts()[:10]\n",
    "#Antwort Frage 1: Von dem Itemtype acbk wurden die meisten Bücher inventarisiert(4974)"
   ]
  },
  {
   "cell_type": "code",
   "execution_count": 144,
   "metadata": {},
   "outputs": [
    {
     "data": {
      "image/png": "[encoded data removed]",
      "text/plain": [
       "<Figure size 432x288 with 1 Axes>"
      ]
     },
     "metadata": {
      "needs_background": "light"
     },
     "output_type": "display_data"
    },
    {
     "data": {
      "text/plain": [
       "<Figure size 432x288 with 0 Axes>"
      ]
     },
     "metadata": {},
     "output_type": "display_data"
    }
   ],
   "source": [
    "Itemtype = [\"acbk\", \"jcbk\", \"arbk\", \"accd\", \"acdvd\", \"jcdvd\", \"acmus\", \"jccd\", \"arper\", \"acmap\"]\n",
    "Anzahl = [4974, 2374, 852, 730, 637, 188, 120, 97, 8, 6]\n",
    "plt.title (\"Inventarisierung nach Itemtype\")\n",
    "plt.bar (Itemtype, Anzahl, color=(\"#a8328f\"))\n",
    "plt.figure(figsize=(6,4))\n",
    "plt.show()"
   ]
  },
  {
   "cell_type": "code",
   "execution_count": 14,
   "metadata": {},
   "outputs": [
    {
     "data": {
      "text/plain": [
       "count       9883\n",
       "unique       915\n",
       "top       [2016]\n",
       "freq         579\n",
       "Name: publicationyear, dtype: object"
      ]
     },
     "execution_count": 14,
     "metadata": {},
     "output_type": "execute_result"
    }
   ],
   "source": [
    "inventories[\"publicationyear\"].describe()\n",
    "#Antwort Frage #2: Die meisten Bücher wurden im [2016] publiziert(579)"
   ]
  },
  {
   "cell_type": "code",
   "execution_count": 111,
   "metadata": {},
   "outputs": [
    {
     "data": {
      "text/plain": [
       "[2016]    579\n",
       "[2015]    495\n",
       "2016.     468\n",
       "2015.     371\n",
       "2014.     327\n",
       "[2017]    325\n",
       "[2014]    325\n",
       "2013.     308\n",
       "2012.     264\n",
       "2011.     258\n",
       "Name: publicationyear, dtype: int64"
      ]
     },
     "execution_count": 111,
     "metadata": {},
     "output_type": "execute_result"
    }
   ],
   "source": [
    "inventories[\"publicationyear\"].value_counts()[:10]"
   ]
  },
  {
   "cell_type": "code",
   "execution_count": 145,
   "metadata": {},
   "outputs": [
    {
     "data": {
      "image/png": "[encoded data removed]",
      "text/plain": [
       "<Figure size 432x288 with 1 Axes>"
      ]
     },
     "metadata": {
      "needs_background": "light"
     },
     "output_type": "display_data"
    }
   ],
   "source": [
    "plt.title (\"Inventarisierung nach Jahr\")\n",
    "inventories[\"publicationyear\"].value_counts()[:10].plot(kind=\"barh\", color=\"#f7076f\")\n",
    "plt.show()"
   ]
  },
  {
   "cell_type": "code",
   "execution_count": 16,
   "metadata": {},
   "outputs": [
    {
     "data": {
      "text/html": [
       "<div>\n",
       "<style scoped>\n",
       "    .dataframe tbody tr th:only-of-type {\n",
       "        vertical-align: middle;\n",
       "    }\n",
       "\n",
       "    .dataframe tbody tr th {\n",
       "        vertical-align: top;\n",
       "    }\n",
       "\n",
       "    .dataframe thead th {\n",
       "        text-align: right;\n",
       "    }\n",
       "</style>\n",
       "<table border=\"1\" class=\"dataframe\">\n",
       "  <thead>\n",
       "    <tr style=\"text-align: right;\">\n",
       "      <th>floatingitem</th>\n",
       "      <th>Floating</th>\n",
       "    </tr>\n",
       "    <tr>\n",
       "      <th>itemtype</th>\n",
       "      <th></th>\n",
       "    </tr>\n",
       "  </thead>\n",
       "  <tbody>\n",
       "    <tr>\n",
       "      <th>acbk</th>\n",
       "      <td>228</td>\n",
       "    </tr>\n",
       "    <tr>\n",
       "      <th>accd</th>\n",
       "      <td>443</td>\n",
       "    </tr>\n",
       "    <tr>\n",
       "      <th>acdvd</th>\n",
       "      <td>520</td>\n",
       "    </tr>\n",
       "    <tr>\n",
       "      <th>jcbk</th>\n",
       "      <td>133</td>\n",
       "    </tr>\n",
       "    <tr>\n",
       "      <th>jccd</th>\n",
       "      <td>65</td>\n",
       "    </tr>\n",
       "    <tr>\n",
       "      <th>jcdvd</th>\n",
       "      <td>162</td>\n",
       "    </tr>\n",
       "  </tbody>\n",
       "</table>\n",
       "</div>"
      ],
      "text/plain": [
       "floatingitem  Floating\n",
       "itemtype              \n",
       "acbk               228\n",
       "accd               443\n",
       "acdvd              520\n",
       "jcbk               133\n",
       "jccd                65\n",
       "jcdvd              162"
      ]
     },
     "execution_count": 16,
     "metadata": {},
     "output_type": "execute_result"
    }
   ],
   "source": [
    "pd.crosstab(inventories[\"itemtype\"], inventories[\"floatingitem\"])\n",
    "#Antwort Frage #3: die meisten Floatingitems Bücher gehören zu der Kategorie acdvd "
   ]
  },
  {
   "cell_type": "code",
   "execution_count": 17,
   "metadata": {},
   "outputs": [
    {
     "data": {
      "text/plain": [
       "floatingitem\n",
       "Floating    1551\n",
       "dtype: int64"
      ]
     },
     "execution_count": 17,
     "metadata": {},
     "output_type": "execute_result"
    }
   ],
   "source": [
    "#Alle Werte der vorherigen Tabelle adieren um die Antwort auf die Frage #4 zu bekommen\n",
    "pd.crosstab(inventories[\"itemtype\"], inventories[\"floatingitem\"]).sum()\n",
    "# Antwort Frage #4: 1551 inventarisierten Bücher gehören zum floatingitem"
   ]
  },
  {
   "cell_type": "code",
   "execution_count": 134,
   "metadata": {},
   "outputs": [
    {
     "data": {
      "text/plain": [
       "1      8788\n",
       "2       974\n",
       "3       125\n",
       "4        40\n",
       "5        14\n",
       "6        13\n",
       "9         7\n",
       "10        7\n",
       "7         7\n",
       "8         6\n",
       "11        2\n",
       "13        2\n",
       "40        1\n",
       "17        1\n",
       "18        1\n",
       "26        1\n",
       "15        1\n",
       "19        1\n",
       "20        1\n",
       "28        1\n",
       "140       1\n",
       "21        1\n",
       "29        1\n",
       "53        1\n",
       "22        1\n",
       "54        1\n",
       "12        1\n",
       "Name: itemcount, dtype: int64"
      ]
     },
     "execution_count": 134,
     "metadata": {},
     "output_type": "execute_result"
    }
   ],
   "source": [
    "inventories[\"itemcount\"].value_counts()\n",
    "#Antwort Frage 5: es gibt von 1 bis 140 Exemplare von einem Buch. Aber die meisten haben nur Exemplar."
   ]
  },
  {
   "cell_type": "code",
   "execution_count": 146,
   "metadata": {},
   "outputs": [
    {
     "data": {
      "image/png": "[encoded data removed]",
      "text/plain": [
       "<Figure size 432x288 with 1 Axes>"
      ]
     },
     "metadata": {},
     "output_type": "display_data"
    }
   ],
   "source": [
    "Ein_Exemplar= inventories.loc[inventories[\"itemcount\"] ==1].count()[0]\n",
    "Zwei_Exemplare=inventories.loc[inventories[\"itemcount\"] ==2].count()[0]\n",
    "Drei_Exemplare=inventories.loc[inventories[\"itemcount\"] ==3].count()[0]\n",
    "plt.title (\"Inventarisierung nach Exemplare\")\n",
    "\n",
    "labels = [\"Ein_Exemplar\", \"Zwei_Exemplare\", \"Drei_Exemplare\"]\n",
    "colors=[\"#0797f7\", \"#47dea9\", \"#ebe23b\"]\n",
    "\n",
    "plt.pie([Ein_Exemplar, Zwei_Exemplare, Drei_Exemplare], labels=labels, colors=colors, autopct=\"%.2f%%\")\n",
    "plt.show()"
   ]
  },
  {
   "cell_type": "code",
   "execution_count": null,
   "metadata": {},
   "outputs": [],
   "source": []
  },
  {
   "cell_type": "code",
   "execution_count": null,
   "metadata": {},
   "outputs": [],
   "source": []
  }
 ],
 "metadata": {
  "kernelspec": {
   "display_name": "Python 3",
   "language": "python",
   "name": "python3"
  },
  "language_info": {
   "codemirror_mode": {
    "name": "ipython",
    "version": 3
   },
   "file_extension": ".py",
   "mimetype": "text/x-python",
   "name": "python",
   "nbconvert_exporter": "python",
   "pygments_lexer": "ipython3",
   "version": "3.7.6"
  }
 },
 "nbformat": 4,
 "nbformat_minor": 4
}
